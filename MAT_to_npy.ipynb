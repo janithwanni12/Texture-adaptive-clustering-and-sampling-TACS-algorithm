{
 "cells": [
  {
   "cell_type": "code",
   "execution_count": 1,
   "id": "4afd13df",
   "metadata": {},
   "outputs": [],
   "source": [
    "import numpy as np\n",
    "from scipy.io import loadmat\n",
    "import os\n",
    "\n",
    "# Specify the path of the .mat file\n",
    "mat_filepath = r'/Users/janithwanniarachchi/Downloads/Forsterite_Forsterite.mat'\n",
    "\n",
    "# Load the .mat file\n",
    "data = loadmat(mat_filepath)\n",
    "\n",
    "# Extract the Euler angles array (assuming it's present in the file)\n",
    "euler_angles_array = data['euler_angles']\n",
    "\n",
    "# Extract the file name without the extension\n",
    "filename_without_extension = os.path.splitext(os.path.basename(mat_filepath))[0]\n",
    "\n",
    "# Construct the .npy file path in the same directory\n",
    "npy_filepath = os.path.join(os.path.dirname(mat_filepath), f'{filename_without_extension}.npy')\n",
    "\n",
    "# Save to .npy format with the same name in the specified directory\n",
    "np.save(npy_filepath, euler_angles_array)\n"
   ]
  },
  {
   "cell_type": "code",
   "execution_count": null,
   "id": "8ada41b5",
   "metadata": {},
   "outputs": [],
   "source": []
  }
 ],
 "metadata": {
  "kernelspec": {
   "display_name": "Python 3 (ipykernel)",
   "language": "python",
   "name": "python3"
  },
  "language_info": {
   "codemirror_mode": {
    "name": "ipython",
    "version": 3
   },
   "file_extension": ".py",
   "mimetype": "text/x-python",
   "name": "python",
   "nbconvert_exporter": "python",
   "pygments_lexer": "ipython3",
   "version": "3.11.5"
  }
 },
 "nbformat": 4,
 "nbformat_minor": 5
}
